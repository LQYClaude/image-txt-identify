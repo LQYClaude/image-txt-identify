{
 "cells": [
  {
   "cell_type": "code",
   "execution_count": 1,
   "metadata": {},
   "outputs": [
    {
     "name": "stderr",
     "output_type": "stream",
     "text": [
      "C:\\Users\\LU\\Anaconda3\\lib\\site-packages\\h5py\\__init__.py:36: FutureWarning: Conversion of the second argument of issubdtype from `float` to `np.floating` is deprecated. In future, it will be treated as `np.float64 == np.dtype(float).type`.\n",
      "  from ._conv import register_converters as _register_converters\n"
     ]
    }
   ],
   "source": [
    "import scipy.io as scio\n",
    "import matplotlib.pyplot as plt\n",
    "import time\n",
    "import math\n",
    "import tensorflow as tf\n",
    "from numpy import *\n",
    "%matplotlib inline"
   ]
  },
  {
   "cell_type": "code",
   "execution_count": 2,
   "metadata": {},
   "outputs": [],
   "source": [
    "#import data\n",
    "data = scio.loadmat('dataset.mat')\n",
    "trainIm = data['train_image']\n",
    "testIm = data['test_image']\n",
    "trainLa = data['train_label']\n",
    "testLa = data['test_label']"
   ]
  },
  {
   "cell_type": "code",
   "execution_count": 3,
   "metadata": {},
   "outputs": [],
   "source": [
    "#distance function for calculating the distance between two picture\n",
    "def distance(target,data):\n",
    "    distance = ((((target - data)**2).sum(axis=1)).sum(axis=0))**0.5\n",
    "    return distance"
   ]
  },
  {
   "cell_type": "code",
   "execution_count": 4,
   "metadata": {},
   "outputs": [],
   "source": [
    "KNNdata = None\n",
    "KNNdis = None\n",
    "KNNla = None\n",
    "KNNtrainIm = None\n",
    "KNNtrainLa = None\n",
    "\n",
    "#class Kt for KNN tree\n",
    "class Kt:\n",
    "    \n",
    "    def __init__(self,data,left = None,right = None,pix = None,mid = None,node = 0,la = 0):\n",
    "        self._data = data #picture saved in this node\n",
    "        self._left = left #left node\n",
    "        self._right = right #right node\n",
    "        self._pix = pix #which row is chosen as comparing target\n",
    "        self._mid = mid #middle value\n",
    "        self._node = node #this is a node or leaf\n",
    "        self._la = la #laber of this node \n",
    "        global KNNtrainIm\n",
    "        global KNNtrainLa\n",
    "        if self._data.shape[0] == 1:\n",
    "            self._node = 1\n",
    "            for f in range(0,KNNtrainIm.shape[0]):\n",
    "                if (self._data[0] == KNNtrainIm[f]).all():\n",
    "                    self._la = array([KNNtrainLa[f]])\n",
    "        else:\n",
    "            self._pix = random.randint(0,data.shape[1]-1)\n",
    "            self._data = self._data[argsort(self._data.sum(axis=2)[:,self._pix])]\n",
    "            self._left = Kt(array_split(self._data,2,axis=0)[0])\n",
    "            self._right = Kt(array_split(self._data,2,axis=0)[1])\n",
    "            self._mid = array_split(self._data,2,axis=0)[1][0,self._pix].sum(axis=0)\n",
    "            self._data = None\n",
    "    \n",
    "    def search(self,target,k):\n",
    "        global KNNdis\n",
    "        global KNNdata\n",
    "        global KNNla\n",
    "        if self._node == 0:\n",
    "            dis = KNNdis\n",
    "            if target[self._pix].sum(axis=0) < self._mid:\n",
    "                self._left.search(target,k)\n",
    "                KNNdata = KNNdata[argsort(KNNdis)][:k]\n",
    "                KNNdis = KNNdis[argsort(KNNdis)][:k]\n",
    "                KNNla = KNNla[argsort(KNNdis)][:k]\n",
    "                if dis is None:\n",
    "                    self._right.search(target,k)\n",
    "                elif dis.shape[0]!=KNNdis.shape[0]:\n",
    "                    self._right.search(target,k)\n",
    "                elif (dis != KNNdis).all():\n",
    "                    self._right.search(target,k)\n",
    "            else:\n",
    "                self._right.search(target,k)\n",
    "                KNNdata = KNNdata[argsort(KNNdis)][:k]\n",
    "                KNNdis = KNNdis[argsort(KNNdis)][:k]\n",
    "                KNNla = KNNla[argsort(KNNdis)][:k]\n",
    "                if dis is None:\n",
    "                    self._left.search(target,k)\n",
    "                elif dis.shape[0]!=KNNdis.shape[0]:\n",
    "                    self._left.search(target,k)\n",
    "                elif (dis != KNNdis).all():\n",
    "                    self._left.search(target,k)\n",
    "            return 0\n",
    "        else:\n",
    "            dis = distance(self._data[0],target)\n",
    "            if KNNdata is None:\n",
    "                KNNdata = self._data\n",
    "                KNNla = self._la\n",
    "                KNNdis = array([dis])\n",
    "            else:\n",
    "                KNNdata = concatenate((KNNdata,self._data),axis=0)\n",
    "                KNNla = concatenate((KNNla,self._la),axis=0)\n",
    "                KNNdis = concatenate((KNNdis,array([dis])),axis=0)\n",
    "        return 1"
   ]
  },
  {
   "cell_type": "code",
   "execution_count": 5,
   "metadata": {},
   "outputs": [],
   "source": [
    "#creating KNN tree function\n",
    "def createKNNtree(trainI,trainL):\n",
    "    global KNNtrainIm\n",
    "    global KNNtrainLa\n",
    "    KNNtrainIm = trainI\n",
    "    KNNtrainLa = trainL\n",
    "    tree = Kt(trainI)\n",
    "    return tree"
   ]
  },
  {
   "cell_type": "code",
   "execution_count": 6,
   "metadata": {},
   "outputs": [],
   "source": [
    "#testing function\n",
    "def testKNNtree(testI,testL,k,tree):\n",
    "    success = 0\n",
    "    for i in range(0,testI.shape[0]):\n",
    "        global KNNdis\n",
    "        global KNNdata\n",
    "        global KNNla\n",
    "        KNNdata = None\n",
    "        KNNdis = None\n",
    "        KNNla = None\n",
    "        r = tree.search(testI[i],k)\n",
    "        realClass = testL[i]\n",
    "        ones = 0\n",
    "        oneS = 0\n",
    "        zeroS = 0\n",
    "        for h in range(0,k):\n",
    "            if KNNla[h] == [1]:\n",
    "                ones = ones+1\n",
    "                oneS = oneS+KNNdis[h]\n",
    "            else:\n",
    "                zeroS = zeroS+KNNdis[h]\n",
    "        zeros = KNNla.shape[0] - ones\n",
    "        if (realClass==[0] and zeros>ones) or (realClass==[1] and ones>zeros):\n",
    "            success = success+1\n",
    "        elif zeros==ones and ((realClass==[0] and (zeroS/zeros)<=(oneS/ones)) or (realClass==[1] and (zeroS/zeros)>=(oneS/ones))):\n",
    "            success = success+1\n",
    "    rate = success/testI.shape[0]\n",
    "    return rate"
   ]
  },
  {
   "cell_type": "code",
   "execution_count": 7,
   "metadata": {},
   "outputs": [
    {
     "name": "stdout",
     "output_type": "stream",
     "text": [
      "--- create KNN tree uses 0.5093622207641602 seconds ---\n"
     ]
    }
   ],
   "source": [
    "start_time = time.time()\n",
    "KNNtree = createKNNtree(trainIm,trainLa)\n",
    "print(\"--- create KNN tree uses %s seconds ---\" % (time.time() - start_time))"
   ]
  },
  {
   "cell_type": "code",
   "execution_count": 8,
   "metadata": {},
   "outputs": [
    {
     "name": "stdout",
     "output_type": "stream",
     "text": [
      "--- test KNN tree k = 1 uses 0.3657069206237793 seconds ---\n",
      "--- test KNN tree k = 2 uses 0.40326642990112305 seconds ---\n",
      "--- test KNN tree k = 3 uses 0.42432212829589844 seconds ---\n",
      "--- test KNN tree k = 4 uses 0.43833184242248535 seconds ---\n",
      "--- test KNN tree k = 5 uses 0.46131038665771484 seconds ---\n",
      "--- test KNN tree k = 6 uses 0.45432281494140625 seconds ---\n",
      "--- test KNN tree k = 7 uses 0.49136853218078613 seconds ---\n",
      "--- test KNN tree k = 8 uses 0.5183477401733398 seconds ---\n",
      "--- test KNN tree k = 9 uses 0.5323789119720459 seconds ---\n",
      "--- test KNN tree k = 10 uses 1.2649061679840088 seconds ---\n",
      "[0, 1.0, 1.0, 0.86, 0.93, 0.815, 0.835, 0.785, 0.815, 0.805, 0.85]\n",
      "[0, 0.73, 0.73, 0.71, 0.73, 0.725, 0.74, 0.665, 0.675, 0.695, 0.685]\n"
     ]
    },
    {
     "data": {
      "text/plain": [
       "<matplotlib.legend.Legend at 0xdb2d6655f8>"
      ]
     },
     "execution_count": 8,
     "metadata": {},
     "output_type": "execute_result"
    },
    {
     "data": {
      "image/png": "[encoded data removed]",
      "text/plain": [
       "<matplotlib.figure.Figure at 0xdb2d576828>"
      ]
     },
     "metadata": {},
     "output_type": "display_data"
    }
   ],
   "source": [
    "X = arange(0,11,1)\n",
    "testY = [0]\n",
    "trainY = [0]\n",
    "\n",
    "for i in range(1,11):\n",
    "    start_time = time.time()\n",
    "    testY.append(testKNNtree(testIm,testLa,i,KNNtree))\n",
    "    trainY.append(testKNNtree(trainIm,trainLa,i,KNNtree))\n",
    "    print(\"--- test KNN tree k = %s uses %s seconds ---\" % (i,time.time() - start_time))\n",
    "\n",
    "print(trainY)\n",
    "print(testY)\n",
    "trainY = array(trainY)\n",
    "testY = array(testY)\n",
    "plt.plot(X,trainY)\n",
    "plt.plot(X,testY)\n",
    "plt.xlabel('k')\n",
    "plt.ylabel('rate')\n",
    "plt.title('test and train')\n",
    "plt.legend(['train', 'test'])"
   ]
  },
  {
   "cell_type": "code",
   "execution_count": null,
   "metadata": {},
   "outputs": [],
   "source": []
  },
  {
   "cell_type": "code",
   "execution_count": 9,
   "metadata": {},
   "outputs": [],
   "source": [
    "#infomation calculation function for calculating the information in a set of data. return in [information,label]\n",
    "def infoCal(laset):\n",
    "    ones = 0\n",
    "    for i in range(0,laset.shape[0]):\n",
    "        if laset[i] == [1]:\n",
    "            ones = ones+1\n",
    "    if ones == laset.shape[0]:\n",
    "        return [0,1]\n",
    "    elif ones == 0:\n",
    "        return [0,0]\n",
    "    zeros = (laset.shape[0] - ones)/laset.shape[0]\n",
    "    ones = ones/laset.shape[0]\n",
    "    info = -ones*math.log(ones,2) - zeros*math.log(zeros,2)\n",
    "    if ones < zeros:\n",
    "        return [info,0]\n",
    "    return [info,1]"
   ]
  },
  {
   "cell_type": "code",
   "execution_count": 10,
   "metadata": {},
   "outputs": [],
   "source": [
    "# class for Decision tree\n",
    "class Dt:\n",
    "    def __init__(self,data,laber,info,la,left = None,right = None,loc = None,mid = None):\n",
    "        self._data = data #data in this node\n",
    "        self._laber = laber #laber of all data\n",
    "        self._left = left #left node\n",
    "        self._right = right #right node\n",
    "        self._loc = loc #location for making decision\n",
    "        self._mid = mid # middle value\n",
    "        self._info = info # information of this node\n",
    "        self._la = la #laber of this node\n",
    "        global trainIm\n",
    "        \n",
    "        if self._info != 0:\n",
    "            infoArray = [2]\n",
    "            for h in range(0,self._data.shape[1]):\n",
    "                Nlaber = self._laber[argsort(self._data.sum(axis=2)[:,h])]\n",
    "                infoArray.append(infoCal(array_split(Nlaber,2,axis=0)[0])[0]+infoCal(array_split(Nlaber,2,axis=0)[1])[0])\n",
    "            del infoArray[0]\n",
    "            self._loc = infoArray.index(min(infoArray))\n",
    "            self._laber = self._laber[argsort(self._data.sum(axis=2)[:,self._loc])]\n",
    "            self._data = self._data[argsort(self._data.sum(axis=2)[:,self._loc])]\n",
    "            \n",
    "            info = infoCal(array_split(self._laber,2,axis=0)[0])\n",
    "            self._left = Dt(array_split(self._data,2,axis=0)[0],array_split(self._laber,2,axis=0)[0],info[0],info[1])\n",
    "            \n",
    "            info = infoCal(array_split(self._laber,2,axis=0)[1])\n",
    "            self._right = Dt(array_split(self._data,2,axis=0)[1],array_split(self._laber,2,axis=0)[1],info[0],info[1])\n",
    "            self._mid = array_split(self._data,2,axis=0)[1][0,self._loc].sum(axis=0)\n",
    "            \n",
    "    #get the infomation of this node\n",
    "    def getInfo(self):\n",
    "        return self._info\n",
    "        \n",
    "    #search for a picture return its predict laber\n",
    "    def search(self,target,infoR):\n",
    "        if self._info > infoR:\n",
    "            if target[self._loc].sum(axis=0) < self._mid:\n",
    "                return self._left.search(target,infoR)\n",
    "            return self._right.search(target,infoR)\n",
    "        return self._la"
   ]
  },
  {
   "cell_type": "code",
   "execution_count": 11,
   "metadata": {},
   "outputs": [],
   "source": [
    "#function for creating decision tree\n",
    "def createDTtree(trainI,trainL):\n",
    "    info = infoCal(trainL)\n",
    "    tree = Dt(trainI,trainL,info[0],info[1])\n",
    "    return tree"
   ]
  },
  {
   "cell_type": "code",
   "execution_count": 12,
   "metadata": {},
   "outputs": [],
   "source": [
    "#testing function for decision tree, return success rate\n",
    "def testDTtree(testI,testL,tree,infoR):\n",
    "    success = 0\n",
    "    for i in range(0,testI.shape[0]):\n",
    "        la = tree.search(testI[i],infoR)\n",
    "        realClass = testL[i]\n",
    "        if realClass == array([la]):\n",
    "            success = success+1\n",
    "    rate = success/testI.shape[0]\n",
    "    return rate"
   ]
  },
  {
   "cell_type": "code",
   "execution_count": 13,
   "metadata": {},
   "outputs": [
    {
     "name": "stdout",
     "output_type": "stream",
     "text": [
      "--- decision tree use 0.15613126754760742 seconds ---\n"
     ]
    }
   ],
   "source": [
    "start_time = time.time()\n",
    "DTtree = createDTtree(trainIm,trainLa)\n",
    "print(\"--- decision tree use %s seconds ---\" % (time.time() - start_time))"
   ]
  },
  {
   "cell_type": "code",
   "execution_count": 14,
   "metadata": {},
   "outputs": [
    {
     "name": "stdout",
     "output_type": "stream",
     "text": [
      "--- 0.02101278305053711 seconds ---\n",
      "--- 0.022016286849975586 seconds ---\n",
      "--- 0.015010356903076172 seconds ---\n",
      "--- 0.013010740280151367 seconds ---\n",
      "--- 0.01803112030029297 seconds ---\n",
      "--- 0.016993045806884766 seconds ---\n",
      "[1.0, 1.0, 1.0, 0.995, 0.995, 0.975]\n",
      "[0.76, 0.76, 0.76, 0.765, 0.765, 0.765]\n"
     ]
    },
    {
     "data": {
      "text/plain": [
       "<matplotlib.legend.Legend at 0xdb339c8668>"
      ]
     },
     "execution_count": 14,
     "metadata": {},
     "output_type": "execute_result"
    },
    {
     "data": {
      "image/png": "[encoded data removed]",
      "text/plain": [
       "<matplotlib.figure.Figure at 0xdb2d597748>"
      ]
     },
     "metadata": {},
     "output_type": "display_data"
    }
   ],
   "source": [
    "X = arange(0,0.6,0.1)\n",
    "testY = [0]\n",
    "trainY = [0]\n",
    "i = 0\n",
    "\n",
    "while i < 0.6:\n",
    "    start_time = time.time()\n",
    "    testY.append(testDTtree(testIm,testLa,DTtree,i))\n",
    "    trainY.append(testDTtree(trainIm,trainLa,DTtree,i))\n",
    "    i = i + 0.1\n",
    "    print(\"--- %s seconds ---\" % (time.time() - start_time))\n",
    "\n",
    "del testY[0]\n",
    "del trainY[0]\n",
    "print(trainY)\n",
    "print(testY)\n",
    "trainY = array(trainY)\n",
    "testY = array(testY)\n",
    "plt.plot(X,trainY)\n",
    "plt.plot(X,testY)\n",
    "plt.xlabel('infomation rate')\n",
    "plt.ylabel('success rate')\n",
    "plt.title('test and train')\n",
    "plt.legend(['train', 'test'])"
   ]
  },
  {
   "cell_type": "code",
   "execution_count": null,
   "metadata": {},
   "outputs": [],
   "source": []
  },
  {
   "cell_type": "code",
   "execution_count": 15,
   "metadata": {},
   "outputs": [],
   "source": [
    "#function for adding layer\n",
    "def addLayer(inputs,inS,outS):\n",
    "    w = tf.Variable(tf.random_normal([inS, outS]))\n",
    "    b = tf.Variable(tf.zeros([1,outS]) + 0.1,)\n",
    "    y = tf.matmul(inputs,w) + b\n",
    "    outputs = tf.nn.softmax(y)\n",
    "    return outputs"
   ]
  },
  {
   "cell_type": "code",
   "execution_count": 16,
   "metadata": {},
   "outputs": [],
   "source": [
    "#function for computing the difference\n",
    "def computor(x, y):\n",
    "    global prediction\n",
    "    y_pre = sess.run(prediction,feed_dict={xs:x})\n",
    "    correct_pre = tf.equal(tf.argmax(y_pre,1), tf.argmax(y,1))\n",
    "    accuracy = tf.reduce_mean(tf.cast(correct_pre, tf.float32))\n",
    "    result = sess.run(accuracy, feed_dict={xs:x, ys:y})\n",
    "    return result"
   ]
  },
  {
   "cell_type": "code",
   "execution_count": 17,
   "metadata": {},
   "outputs": [
    {
     "name": "stdout",
     "output_type": "stream",
     "text": [
      "--- 14.325831174850464 train seconds ---\n",
      "--- 24.17406678199768 test seconds ---\n",
      "[0.485, 0.5, 0.52, 0.525, 0.525, 0.545, 0.565, 0.575, 0.575, 0.585, 0.595, 0.605, 0.615, 0.62, 0.62, 0.625, 0.645, 0.645, 0.66, 0.665, 0.675, 0.685, 0.7, 0.7, 0.705, 0.705, 0.71, 0.715, 0.715, 0.725, 0.73, 0.735, 0.735, 0.735, 0.735, 0.735, 0.735, 0.735, 0.74, 0.74, 0.74, 0.745, 0.745, 0.745, 0.75, 0.75, 0.755, 0.765, 0.765, 0.765, 0.775, 0.775, 0.785, 0.795, 0.81, 0.815, 0.815, 0.815, 0.815, 0.82, 0.835, 0.835, 0.835, 0.855, 0.86, 0.875, 0.885, 0.89, 0.89, 0.91, 0.91, 0.915, 0.915, 0.92, 0.92, 0.92, 0.92, 0.93, 0.945, 0.945, 0.945, 0.945, 0.945, 0.945, 0.95, 0.955, 0.965, 0.965, 0.965, 0.965, 0.965, 0.965, 0.965, 0.965, 0.965, 0.965, 0.965, 0.965, 0.97, 0.97, 0.975, 0.975, 0.975, 0.975, 0.975, 0.98, 0.98, 0.98, 0.985, 0.985, 0.985, 0.985, 0.985, 0.985, 0.985, 0.985, 0.985, 0.99, 0.99, 0.995, 0.995, 0.995, 0.995, 0.995, 0.995, 0.995, 0.995, 0.995, 0.995, 0.995, 0.995, 0.995, 0.995, 0.995, 0.995, 0.995, 0.995, 0.995, 0.995, 0.995, 0.995, 1.0, 1.0, 1.0, 1.0, 1.0, 1.0, 1.0, 1.0, 1.0, 1.0, 1.0, 1.0, 1.0, 1.0, 1.0, 1.0, 1.0, 1.0, 1.0, 1.0, 1.0, 1.0, 1.0, 1.0, 1.0, 1.0, 1.0, 1.0, 1.0, 1.0, 1.0, 1.0, 1.0, 1.0, 1.0, 1.0, 1.0, 1.0, 1.0, 1.0, 1.0, 1.0, 1.0, 1.0, 1.0, 1.0, 1.0, 1.0, 1.0, 1.0, 1.0, 1.0, 1.0, 1.0, 1.0, 1.0, 1.0, 1.0, 1.0]\n",
      "[0.75, 0.77, 0.775, 0.77, 0.77, 0.77, 0.775, 0.78, 0.8, 0.8, 0.805, 0.81, 0.815, 0.825, 0.825, 0.825, 0.825, 0.83, 0.83, 0.835, 0.84, 0.84, 0.845, 0.855, 0.855, 0.855, 0.855, 0.855, 0.865, 0.865, 0.865, 0.87, 0.89, 0.895, 0.895, 0.9, 0.9, 0.9, 0.9, 0.9, 0.9, 0.91, 0.91, 0.91, 0.91, 0.915, 0.915, 0.92, 0.925, 0.925, 0.925, 0.93, 0.935, 0.945, 0.945, 0.955, 0.96, 0.96, 0.965, 0.965, 0.965, 0.965, 0.965, 0.97, 0.97, 0.97, 0.975, 0.975, 0.975, 0.975, 0.975, 0.975, 0.98, 0.98, 0.98, 0.98, 0.98, 0.98, 0.98, 0.99, 0.99, 0.99, 0.99, 0.99, 0.99, 0.99, 0.99, 0.99, 0.99, 0.99, 0.99, 0.995, 0.995, 0.995, 0.995, 0.995, 0.995, 0.995, 0.995, 0.995, 0.995, 0.995, 0.995, 0.995, 0.995, 0.995, 0.995, 0.995, 0.995, 0.995, 0.995, 0.995, 0.995, 0.995, 0.995, 0.995, 0.995, 0.995, 1.0, 1.0, 1.0, 1.0, 1.0, 1.0, 1.0, 1.0, 1.0, 1.0, 1.0, 1.0, 1.0, 1.0, 1.0, 1.0, 1.0, 1.0, 1.0, 1.0, 1.0, 1.0, 1.0, 1.0, 1.0, 1.0, 1.0, 1.0, 1.0, 1.0, 1.0, 1.0, 1.0, 1.0, 1.0, 1.0, 1.0, 1.0, 1.0, 1.0, 1.0, 1.0, 1.0, 1.0, 1.0, 1.0, 1.0, 1.0, 1.0, 1.0, 1.0, 1.0, 1.0, 1.0, 1.0, 1.0, 1.0, 1.0, 1.0, 1.0, 1.0, 1.0, 1.0, 1.0, 1.0, 1.0, 1.0, 1.0, 1.0, 1.0, 1.0, 1.0, 1.0, 1.0, 1.0, 1.0, 1.0, 1.0, 1.0, 1.0, 1.0, 1.0]\n",
      "--- 24.21411156654358 seconds ---\n"
     ]
    },
    {
     "data": {
      "image/png": "[encoded data removed]",
      "text/plain": [
       "<matplotlib.figure.Figure at 0xdb3a837fd0>"
      ]
     },
     "metadata": {},
     "output_type": "display_data"
    }
   ],
   "source": [
    "xs = tf.placeholder(tf.float32, [None, 576])\n",
    "ys = tf.placeholder(tf.float32, [None, 2])\n",
    "\n",
    "prediction = addLayer(xs,576,2)\n",
    "\n",
    "ce = tf.reduce_mean(-tf.reduce_sum(ys * tf.log(prediction),reduction_indices=[1]))\n",
    "ts = tf.train.GradientDescentOptimizer(0.1).minimize(ce)\n",
    "\n",
    "sess = tf.Session()\n",
    "\n",
    "init = tf.global_variables_initializer()\n",
    "sess.run(init)\n",
    "\n",
    "tl1 = [0]\n",
    "tl2 = [0]\n",
    "for i in range(0,200):\n",
    "    tl1.append(1-trainLa[i][0])\n",
    "    tl2.append(1-testLa[i][0])\n",
    "del tl1[0]\n",
    "del tl2[0]\n",
    "array(tl1)\n",
    "array(tl2)\n",
    "tl3 = insert(trainLa,1,values=tl1, axis=1)\n",
    "tl4 = insert(testLa,1,values=tl2, axis=1)\n",
    "\n",
    "X = arange(0,200,1)\n",
    "testY = [0]\n",
    "trainY = [0]       \n",
    "start_time = time.time()\n",
    "for i in range(2000):\n",
    "    x = trainIm.reshape(200,-1)\n",
    "    y = tl3\n",
    "    sess.run(ts, feed_dict={xs:x, ys:y})\n",
    "    if i % 10 == 0:\n",
    "        trainY.append(computor(trainIm.reshape(200,-1),tl3))\n",
    "print(\"--- %s train seconds ---\" % (time.time() - start_time))\n",
    "\n",
    "start_time = time.time()\n",
    "for i in range(2000):\n",
    "    x = testIm.reshape(200,-1)\n",
    "    y = tl4\n",
    "    sess.run(ts, feed_dict={xs:x, ys:y})\n",
    "    if i % 10 == 0:\n",
    "        testY.append(computor(testIm.reshape(200,-1),tl4))\n",
    "print(\"--- %s test seconds ---\" % (time.time() - start_time))\n",
    "\n",
    "del testY[0]\n",
    "del trainY[0]\n",
    "print(trainY)\n",
    "print(testY)\n",
    "trainY = array(trainY)\n",
    "testY = array(testY)\n",
    "plt.plot(X,trainY)\n",
    "plt.plot(X,testY)\n",
    "plt.xlabel('k')\n",
    "plt.ylabel('rate')\n",
    "plt.title('test and train')\n",
    "plt.legend(['train', 'test'])\n",
    "print(\"--- %s seconds ---\" % (time.time() - start_time))"
   ]
  },
  {
   "cell_type": "code",
   "execution_count": null,
   "metadata": {},
   "outputs": [],
   "source": []
  },
  {
   "cell_type": "code",
   "execution_count": null,
   "metadata": {},
   "outputs": [],
   "source": []
  }
 ],
 "metadata": {
  "kernelspec": {
   "display_name": "Python 3",
   "language": "python",
   "name": "python3"
  },
  "language_info": {
   "codemirror_mode": {
    "name": "ipython",
    "version": 3
   },
   "file_extension": ".py",
   "mimetype": "text/x-python",
   "name": "python",
   "nbconvert_exporter": "python",
   "pygments_lexer": "ipython3",
   "version": "3.6.4"
  }
 },
 "nbformat": 4,
 "nbformat_minor": 2
}
